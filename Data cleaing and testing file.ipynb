{
 "cells": [
  {
   "cell_type": "code",
   "execution_count": 1,
   "id": "48d2a8a2",
   "metadata": {},
   "outputs": [],
   "source": [
    "import numpy as np\n",
    "import pandas as pd\n",
    "import difflib\n",
    "import pickle\n",
    "from sklearn.feature_extraction.text import TfidfVectorizer\n",
    "from sklearn.metrics.pairwise import cosine_similarity\n",
    "import h5py\n",
    "\n"
   ]
  },
  {
   "cell_type": "code",
   "execution_count": 17,
   "id": "afdb9869",
   "metadata": {
    "scrolled": true
   },
   "outputs": [
    {
     "name": "stdout",
     "output_type": "stream",
     "text": [
      "   Index                                  mbid              artist_mb  \\\n",
      "0      0  cc197bad-dc9c-440d-a5b5-d52ba2e14234               Coldplay   \n",
      "1      1  a74b1b7f-71a5-4011-9441-d0b5e4122711              Radiohead   \n",
      "2      2  8bfac288-ccc5-448d-9573-c33ea2aa5c30  Red Hot Chili Peppers   \n",
      "3      3  73e5e69d-3554-40d8-8516-00cb38737a1c                Rihanna   \n",
      "4      4  b95ce3ff-3d05-4e87-9e01-c97b66af13d4                 Eminem   \n",
      "\n",
      "           artist_lastfm      country_mb           country_lastfm  \\\n",
      "0               Coldplay  United Kingdom           United Kingdom   \n",
      "1              Radiohead  United Kingdom           United Kingdom   \n",
      "2  Red Hot Chili Peppers   United States            United States   \n",
      "3                Rihanna   United States  Barbados; United States   \n",
      "4                 Eminem   United States            United States   \n",
      "\n",
      "                                             tags_mb  \\\n",
      "0  rock; pop; alternative rock; british; uk; brit...   \n",
      "1  rock; electronic; alternative rock; british; g...   \n",
      "2  rock; alternative rock; 80s; 90s; rap; metal; ...   \n",
      "3  pop; dance; hip hop; reggae; contemporary r b;...   \n",
      "4  turkish; rap; american; hip-hop; hip hop; hiph...   \n",
      "\n",
      "                                         tags_lastfm  listeners_lastfm  \\\n",
      "0  rock; alternative; britpop; alternative rock; ...         5381567.0   \n",
      "1  alternative; alternative rock; rock; indie; el...         4732528.0   \n",
      "2  rock; alternative rock; alternative; Funk Rock...         4620835.0   \n",
      "3  pop; rnb; female vocalists; dance; Hip-Hop; Ri...         4558193.0   \n",
      "4  rap; Hip-Hop; Eminem; hip hop; pop; american; ...         4517997.0   \n",
      "\n",
      "   scrobbles_lastfm  ambiguous_artist  \n",
      "0       360111850.0             False  \n",
      "1       499548797.0             False  \n",
      "2       293784041.0             False  \n",
      "3       199248986.0             False  \n",
      "4       199507511.0             False  \n",
      "(1048575, 11)\n"
     ]
    }
   ],
   "source": [
    "\n",
    "# Data Collection\n",
    "musicArtist_data = pd.read_csv(r\"C:\\Users\\parab\\Desktop\\secret\\Portfolio projects\\MUSIC RECOMMENDATION SYSTEM\\artists.csv\", encoding='latin1')\n",
    "musicArtist_data.head()\n"
   ]
  },
  {
   "cell_type": "code",
   "execution_count": null,
   "id": "e31620d5",
   "metadata": {},
   "outputs": [],
   "source": [
    "musicArtist_data.shape"
   ]
  },
  {
   "cell_type": "code",
   "execution_count": 5,
   "id": "a9f6f013",
   "metadata": {},
   "outputs": [],
   "source": [
    "# Data Filtering\n",
    "musicArtists_data = musicArtist_data.iloc[0:15000].drop_duplicates(subset='artist_mb', keep='first')\n"
   ]
  },
  {
   "cell_type": "code",
   "execution_count": 6,
   "id": "83246a83",
   "metadata": {},
   "outputs": [],
   "source": [
    "# Clean tags columns\n",
    "musicArtists_data['tags_mb'] = musicArtists_data['tags_mb'].str.replace(\" \", \"\")\n",
    "musicArtists_data['tags_lastfm'] = musicArtists_data['tags_lastfm'].str.replace(\" \", \"\")\n"
   ]
  },
  {
   "cell_type": "code",
   "execution_count": 7,
   "id": "52275655",
   "metadata": {},
   "outputs": [],
   "source": [
    "\n",
    "# Combine features\n",
    "combined_features = musicArtists_data['country_mb'] + ' ' + musicArtists_data['tags_lastfm']\n"
   ]
  },
  {
   "cell_type": "code",
   "execution_count": 8,
   "id": "9509ea7d",
   "metadata": {},
   "outputs": [],
   "source": [
    "# Replace NaN values with an empty string\n",
    "combined_features = combined_features.fillna('')\n"
   ]
  },
  {
   "cell_type": "code",
   "execution_count": 9,
   "id": "cf88accd",
   "metadata": {},
   "outputs": [],
   "source": [
    "# Vectorizing the data\n",
    "vectorizer = TfidfVectorizer()\n",
    "feature_vector = vectorizer.fit_transform(combined_features)\n"
   ]
  },
  {
   "cell_type": "code",
   "execution_count": null,
   "id": "445fc5a1",
   "metadata": {},
   "outputs": [],
   "source": [
    "\n",
    "# Cosine Similarity\n",
    "similarity = cosine_similarity(feature_vector)\n",
    "similarity[1]"
   ]
  },
  {
   "cell_type": "code",
   "execution_count": 11,
   "id": "2f91a142",
   "metadata": {},
   "outputs": [],
   "source": [
    "# Save similarity matrix to HDF5 file\n",
    "with h5py.File('similarityscores.h5', 'w') as hf:\n",
    "    hf.create_dataset('similarity', data=similarity)\n"
   ]
  },
  {
   "cell_type": "code",
   "execution_count": 12,
   "id": "df32fe2b",
   "metadata": {},
   "outputs": [],
   "source": [
    "# Load similarity matrix from HDF5 file\n",
    "with h5py.File('similarityscores.h5', 'r') as hf:\n",
    "    similarity1 = hf['similarity'][:]\n"
   ]
  },
  {
   "cell_type": "code",
   "execution_count": 13,
   "id": "cd0f50b9",
   "metadata": {},
   "outputs": [
    {
     "name": "stdout",
     "output_type": "stream",
     "text": [
      "['Razorlight', 'Dirty Pretty Things', 'Babyshambles', 'Kaiser Chiefs', 'Hardâ\\x80\\x90Fi', 'Editors', 'Oasis', 'Supergrass', 'MaxÃ¯mo Park', 'Blur', 'Bloc Party', 'Kasabian', 'Franz Ferdinand', 'Little Man Tate', 'Milburn', 'Graham Coxon', 'Art Brut', 'Athlete', 'British Sea Power', 'Stereophonics', 'Nine Black Alps', 'Doves', 'Starsailor', 'Idlewild', 'Elastica', 'Feeder', 'Placebo', 'Ash', 'Mystery Jets']\n"
     ]
    }
   ],
   "source": [
    "\n",
    "# Recommendation Function\n",
    "def recommend(musicArtist):\n",
    "    musicArtist_name = musicArtist\n",
    "    list_of_artist_name = musicArtists_data['artist_mb'].tolist()\n",
    "    find_close_match = difflib.get_close_matches(musicArtist_name, list_of_artist_name)\n",
    "\n",
    "    if find_close_match:\n",
    "        close_match = find_close_match[0]\n",
    "        musicArtist_index = musicArtists_data[musicArtists_data['artist_mb'] == close_match].index[0]\n",
    "        distances = similarity[musicArtist_index]\n",
    "        musicArtists_list = sorted(enumerate(distances), key=lambda x: x[1], reverse=True)[1:30]\n",
    "\n",
    "        recommended_artists = [musicArtists_data.iloc[i[0]].artist_mb for i in musicArtists_list]\n",
    "        return recommended_artists\n",
    "    else:\n",
    "        print(f\"No close match found for {musicArtist_name}\")\n",
    "        return []\n",
    "\n",
    "# Example usage\n",
    "recommended_artists = recommend('arctic monkeys')\n",
    "print(recommended_artists)"
   ]
  }
 ],
 "metadata": {
  "kernelspec": {
   "display_name": "Python 3 (ipykernel)",
   "language": "python",
   "name": "python3"
  },
  "language_info": {
   "codemirror_mode": {
    "name": "ipython",
    "version": 3
   },
   "file_extension": ".py",
   "mimetype": "text/x-python",
   "name": "python",
   "nbconvert_exporter": "python",
   "pygments_lexer": "ipython3",
   "version": "3.11.4"
  }
 },
 "nbformat": 4,
 "nbformat_minor": 5
}
